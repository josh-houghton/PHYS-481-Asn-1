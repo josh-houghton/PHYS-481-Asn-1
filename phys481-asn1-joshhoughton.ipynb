{
  "nbformat": 4,
  "nbformat_minor": 0,
  "metadata": {
    "colab": {
      "provenance": []
    },
    "kernelspec": {
      "name": "python3",
      "display_name": "Python 3"
    },
    "language_info": {
      "name": "python"
    }
  },
  "cells": [
    {
      "cell_type": "markdown",
      "source": [
        "# **PHYS 481**\n",
        "## **Assignment 1**\n",
        "### **Josh Houghton**\n"
      ],
      "metadata": {
        "id": "L6ytK46YDuJL"
      }
    },
    {
      "cell_type": "markdown",
      "source": [
        "\n",
        "\n",
        "---\n",
        "\n",
        "\n",
        "## **Introduction**\n",
        "\n",
        "---\n",
        "\n",
        "Throughout this assignment, I was tasked with creating several Python programs to investigate several topics, such as randomization and random shuffling, reversible mixing, modular exponentiation, and integer factorization.\n",
        "\n",
        "The first of these topics, random shuffling, was explored through creating a program that would take a list of integers, representing a deck of cards, and perform what is called a 'riffle shuffle'. As was taught in class, a riffle shuffle can be imagined in real life as a deck of cards being split in two equal halves, and then letting one card from each half fall on top of eachother. This however, is for one: not very realistic, as usually a deck of cards is not perfectly split in half when shuffling, and two: not very random. I was able to construct a much more generalized shuffling program that will take a deck of most sizes, and shuffle it regardless of where the deck was cut, within a given range.\n",
        "\n",
        "After moving on from the shuffling problem, I moved on to the next task of investigating reversible mixing, through a mathematical concept known as Arnold's cat map. For the purpose of this assignment, the cat map was represented as a map that could be performed using an algorithm that, when applied to an image, would shuffle the pixels of said image. However, as was analyzed throughout this portion of my assignment, this map has a property that despite the fact that the pixels appear to be randomized, after a number of steps of the algorith, the original image will be resolved. With this in mind, I was able to create a program that performed a more generalized version of Arnold's cat map to an image, and compute some interesting results to explore cyclic shuffling processes.\n",
        "\n",
        "It is important to note that one important part of the 'shuffling' performed in the cat map algorithm was heavily reliant on modular arithmetic. This type of arithmetic, which takes advantage of the mod operator, is very common in computer science, especially within the field of cryptography. It is this type of arithmetic that allowed me to tackle the third assignment problem, which was finding the order of integers using modular exponentiation, which was done by finding values of $r$ that satisfied\n",
        "\n",
        "<center>$(a^r)$ mod $N$ = 1</center>\n",
        "\n",
        "for a several values of $a$, over a large interval of $N$. After doing so, I was able to create plots of $r(N)$ for each integer $a$, to better visualize how the order $r$ scales with $N$.\n",
        "\n",
        "Finally, the last problem of the assignment had me create a program to factor integers $N$, specifically all odd $N$ for $99900\\ge N\\ge 100000$. This task, for me anyway, proved to be the most difficult of the assignment. I ran in to several problems along the way, but eventually was able to get it running properly. As will be explained in more detail later in my assignment, there are several prime numbers within this range of $N$, which obviously have no non-trivial factors. For this reason, a completely generalized version of this method of factorization is *extremely* inefficient. For this reason, after making sure my code was running properly, I generalized it moreso towards the purpose that it  still performs properly for the purposes of this assignment, but could *technically* not work for much higher intervals of $N$.\n",
        "\n",
        "Overall, this assignment looked at several different topics, although it is clear that in a way, they all build off one another. In the next several cells, I have broken my methodology, results, and discussion in to pieces, to more easily convey ideas related to each of the assignment problems.\n"
      ],
      "metadata": {
        "id": "IbM_ohMmEFJP"
      }
    },
    {
      "cell_type": "markdown",
      "source": [
        "## **Problem 1.1**"
      ],
      "metadata": {
        "id": "r2kcO2vsV5W-"
      }
    },
    {
      "cell_type": "markdown",
      "source": [
        "\n",
        "\n",
        "---\n",
        "### **Methodology**\n",
        "\n",
        "\n",
        "---\n",
        "As stated earlier, the pupose of this first program is to shuffle a list of integers. In class, we went over several methods to do so, therefore a lot of the groundwork and initial ideas were already there when I coded this portion.\n",
        "\n",
        "To begin, I built a simple program that was modelled after the example done in class; however, I did build it from scratch one piece at a time, just to make sure I understood how everything was working. The actual shuffling methods are explained throughout the code as comments, and were went over in class, so I will not dive into the specific methods here. What I will explain, is the modifications that I then made to *generalize* the shuffling program.\n",
        "\n",
        "The first generalization that I made, was that instead of shuffling a predetermined sized list, the program first takes input from the user to set the deck size. This was just done to easily prove that the algorithm works for many different deck sizes.\n",
        "\n",
        "The next, and probably most important generalization that I made, was to instead create an entire function for the shuffle, which I called bridge_shuf(deck, cut). Notice that this function not only takes the deck to be shuffled as an arguement, but also takes an arguement called cut. This arguement is an integer, which represents the index of the list for which the deck is cut at. This, as will be explained shortly, made it much simpler to create a more random looking final deck.\n",
        "\n",
        "The third generalization that I made, which ties into the previous point that I just stated, was to call the function multiple times, each time cutting the deck at a different spot. To do so, I used a for loop that iterated over cards from a quarter of the deck to three quarters of the deck. Then, for each iteration of indices, the deck would be shuffled again, using the current index as the cut. This explains why I added the cut parameter, as for each iteration of the for loop, I could simply pass the value of the current iteration in to the function as the cut arguement. The reason that I only chose cut cards to be within a quarter and three quarters of the deck, is that choosing the cut card to be very close to either end of the deck results in a pretty small change to the overall list. Note that due to this, the program will return an error for decks of length 3 or lower.\n",
        "\n",
        "My code for this problem is below, after running it you will be asked to enter a deck size. All of my code is commented with further explanations for each line and/or block.\n",
        "\n"
      ],
      "metadata": {
        "id": "Cf59GH7VMz_h"
      }
    },
    {
      "cell_type": "markdown",
      "source": [
        "### **Code**"
      ],
      "metadata": {
        "id": "x9fLJeJ0WA4D"
      }
    },
    {
      "cell_type": "code",
      "execution_count": null,
      "metadata": {
        "colab": {
          "base_uri": "https://localhost:8080/"
        },
        "id": "lWGyIH7G3ju1",
        "outputId": "2d62c698-72da-4604-bb4d-5285c4c1a50a"
      },
      "outputs": [
        {
          "output_type": "stream",
          "name": "stdout",
          "text": [
            "Enter your preferred deck size?436\n",
            "\n",
            " Original Deck =  [1, 2, 3, 4, 5, 6, 7, 8, 9, 10, 11, 12, 13, 14, 15, 16, 17, 18, 19, 20, 21, 22, 23, 24, 25, 26, 27, 28, 29, 30, 31, 32, 33, 34, 35, 36, 37, 38, 39, 40, 41, 42, 43, 44, 45, 46, 47, 48, 49, 50, 51, 52, 53, 54, 55, 56, 57, 58, 59, 60, 61, 62, 63, 64, 65, 66, 67, 68, 69, 70, 71, 72, 73, 74, 75, 76, 77, 78, 79, 80, 81, 82, 83, 84, 85, 86, 87, 88, 89, 90, 91, 92, 93, 94, 95, 96, 97, 98, 99, 100, 101, 102, 103, 104, 105, 106, 107, 108, 109, 110, 111, 112, 113, 114, 115, 116, 117, 118, 119, 120, 121, 122, 123, 124, 125, 126, 127, 128, 129, 130, 131, 132, 133, 134, 135, 136, 137, 138, 139, 140, 141, 142, 143, 144, 145, 146, 147, 148, 149, 150, 151, 152, 153, 154, 155, 156, 157, 158, 159, 160, 161, 162, 163, 164, 165, 166, 167, 168, 169, 170, 171, 172, 173, 174, 175, 176, 177, 178, 179, 180, 181, 182, 183, 184, 185, 186, 187, 188, 189, 190, 191, 192, 193, 194, 195, 196, 197, 198, 199, 200, 201, 202, 203, 204, 205, 206, 207, 208, 209, 210, 211, 212, 213, 214, 215, 216, 217, 218, 219, 220, 221, 222, 223, 224, 225, 226, 227, 228, 229, 230, 231, 232, 233, 234, 235, 236, 237, 238, 239, 240, 241, 242, 243, 244, 245, 246, 247, 248, 249, 250, 251, 252, 253, 254, 255, 256, 257, 258, 259, 260, 261, 262, 263, 264, 265, 266, 267, 268, 269, 270, 271, 272, 273, 274, 275, 276, 277, 278, 279, 280, 281, 282, 283, 284, 285, 286, 287, 288, 289, 290, 291, 292, 293, 294, 295, 296, 297, 298, 299, 300, 301, 302, 303, 304, 305, 306, 307, 308, 309, 310, 311, 312, 313, 314, 315, 316, 317, 318, 319, 320, 321, 322, 323, 324, 325, 326, 327, 328, 329, 330, 331, 332, 333, 334, 335, 336, 337, 338, 339, 340, 341, 342, 343, 344, 345, 346, 347, 348, 349, 350, 351, 352, 353, 354, 355, 356, 357, 358, 359, 360, 361, 362, 363, 364, 365, 366, 367, 368, 369, 370, 371, 372, 373, 374, 375, 376, 377, 378, 379, 380, 381, 382, 383, 384, 385, 386, 387, 388, 389, 390, 391, 392, 393, 394, 395, 396, 397, 398, 399, 400, 401, 402, 403, 404, 405, 406, 407, 408, 409, 410, 411, 412, 413, 414, 415, 416, 417, 418, 419, 420, 421, 422, 423, 424, 425, 426, 427, 428, 429, 430, 431, 432, 433, 434, 435, 436]\n",
            "\n",
            " Shuffled deck =  [373, 82, 311, 174, 165, 76, 313, 216, 112, 344, 258, 38, 409, 275, 427, 236, 418, 101, 161, 362, 241, 308, 400, 77, 227, 208, 62, 342, 88, 272, 222, 134, 3, 195, 328, 395, 290, 197, 261, 42, 31, 60, 307, 32, 166, 303, 19, 282, 89, 41, 64, 295, 16, 130, 221, 262, 341, 372, 406, 13, 182, 433, 235, 210, 110, 256, 34, 253, 407, 360, 126, 309, 53, 108, 403, 387, 184, 255, 358, 263, 379, 15, 276, 293, 8, 434, 37, 212, 286, 98, 348, 96, 378, 345, 119, 289, 240, 314, 430, 143, 217, 394, 318, 74, 4, 153, 147, 7, 377, 178, 36, 281, 187, 335, 10, 144, 142, 405, 319, 158, 428, 436, 223, 356, 218, 193, 337, 198, 370, 102, 49, 26, 274, 94, 194, 163, 117, 162, 398, 429, 391, 425, 167, 156, 200, 79, 269, 109, 231, 121, 408, 145, 224, 131, 97, 18, 84, 374, 69, 170, 234, 355, 114, 336, 369, 20, 171, 248, 305, 340, 149, 140, 39, 190, 230, 63, 157, 192, 225, 107, 51, 83, 424, 85, 366, 122, 21, 300, 415, 61, 5, 124, 315, 242, 283, 250, 270, 91, 100, 296, 55, 25, 205, 245, 138, 371, 58, 252, 330, 414, 189, 54, 334, 412, 383, 257, 267, 213, 1, 33, 237, 207, 346, 323, 183, 46, 413, 67, 123, 116, 176, 419, 228, 17, 351, 186, 71, 133, 347, 23, 30, 169, 375, 388, 386, 128, 6, 238, 421, 385, 411, 244, 226, 239, 402, 285, 333, 432, 78, 40, 151, 92, 191, 28, 410, 247, 103, 2, 203, 70, 376, 321, 148, 73, 86, 215, 435, 243, 146, 380, 45, 404, 160, 56, 159, 259, 329, 422, 115, 338, 381, 364, 81, 365, 298, 349, 154, 80, 273, 11, 423, 125, 420, 136, 265, 127, 47, 90, 202, 209, 431, 9, 277, 137, 266, 59, 29, 196, 331, 22, 172, 280, 68, 50, 152, 322, 155, 105, 99, 199, 367, 397, 175, 43, 44, 327, 339, 104, 352, 291, 35, 181, 304, 206, 12, 168, 229, 284, 401, 201, 246, 150, 249, 288, 260, 95, 417, 264, 393, 287, 106, 220, 135, 350, 141, 384, 180, 118, 382, 188, 87, 173, 297, 361, 177, 204, 254, 232, 392, 312, 279, 359, 14, 24, 310, 399, 301, 179, 219, 426, 363, 278, 27, 306, 396, 389, 52, 164, 353, 357, 65, 368, 211, 113, 316, 75, 66, 320, 317, 111, 251, 302, 292, 120, 72, 343, 233, 48, 93, 129, 354, 139, 57, 214, 325, 294, 268, 185, 271, 416, 390, 324, 299, 132, 332, 326]\n"
          ]
        }
      ],
      "source": [
        "# This cell is a program that will take a \"deck of cards\" which is really just a list of\n",
        "# integers, and shuffle it. The length of the deck of cards is specified by the user, and \n",
        "# theoretically could be as long as wanted, although larger decks would take a very long time.\n",
        "\n",
        "import numpy as np\n",
        "import matplotlib.pyplot as plt\n",
        "\n",
        "# Defines a function that will shuffle a \"deck\" (list of integers)\n",
        "# The function takes two arguements, deck and cut. The deck arguement is the list/deck\n",
        "# that is to be shuffled. The cut arguement takes an integer representing where the\n",
        "# deck will be split.\n",
        "def bridge_shuf(deck, cut):\n",
        "  # creating two new lists representing each side of the original deck based on the cut parameter\n",
        "  leftDeck = deck[:-cut]\n",
        "  rightDeck = deck[-cut:]\n",
        "\n",
        "  # creates an empty list which will be used in the following loop\n",
        "  deck_0 = []\n",
        "\n",
        "  # initializing a loop that iterates over number specified for the cut\n",
        "  for j in range(cut):\n",
        "\n",
        "    # creates a new deck ranging from the integer value (rounded) of the difference between\n",
        "    # the deck size and the number used for cut, multiplied by the current index of iteration\n",
        "    # to that multiplied instead by the current iteration plus one\n",
        "    deck_1 = leftDeck[j*int((deckSize - cut) / cut ) : (j+1)*int((deckSize - cut) / cut )]\n",
        "\n",
        "    # adds the index of the second half of the split deck to the new deck based on\n",
        "    # the current iteration\n",
        "    deck_1 += [rightDeck[j]]\n",
        "\n",
        "    # adds the placeholder deck to the deck_0 to complete the switch of cards for this iteration\n",
        "    deck_0 += deck_1\n",
        " \n",
        "  # adds the remainder of the original deck to the end of the new deck to complete\n",
        "  # the current shuffle\n",
        "  deck_0 += leftDeck[(j+1)*int((deckSize - cut) / cut ) : deckSize + 1]\n",
        "\n",
        "  return deck_0\n",
        "\n",
        "\n",
        "\n",
        "\n",
        "\n",
        "# initializes while loop that will run indefinitely \n",
        "while True == True:\n",
        "\n",
        "  # try block that asks the user for input and if that input is able to be converted\n",
        "  # to an integer, breaks out of the while loop\n",
        "  try:\n",
        "    deckSize = int(input(\"Enter your preferred deck size?\"))\n",
        "    break\n",
        "\n",
        "  # if the input entered for the deck size cannot be converted to an integer and gives\n",
        "  # a ValueError, an error message is printed and the while loop continues, so a new\n",
        "  # number can be entered\n",
        "  except ValueError:\n",
        "    print(\"\")\n",
        "    print(\"Deck size needs to be a number. Please enter a new deck size.\")\n",
        "    print(\"\")\n",
        "    continue\n",
        "\n",
        "\n",
        "\n",
        "\n",
        "# This block creates a list of integers from 1 to whatever deck size value is specified\n",
        "# by the user\n",
        "deck = []\n",
        "for i in range(deckSize):\n",
        "  deck += [i+1]\n",
        "\n",
        "# prints the original unshuffled deck\n",
        "print(\"\\n Original Deck = \", deck)\n",
        "\n",
        "# for loop that iterates over the range from one quarter of the deck to three quarters of the deck.\n",
        "# This is because for smaller decks, anything outside that range wouldn't really change the deck a \n",
        "# whole lot. For each iteration, the shuffle function is called to shuffle the current deck, taking \n",
        "# the current iteration as the card where the deck is cut.\n",
        "for indx in range( int((1/4)*deckSize), int((3/4)*deckSize)):\n",
        "  deck = bridge_shuf(deck,indx)\n",
        "\n",
        "# prints the shuffled deck\n",
        "print('\\n Shuffled deck = ', deck)"
      ]
    },
    {
      "cell_type": "markdown",
      "source": [
        "\n",
        "\n",
        "### **Results & Discussion**\n",
        "\n",
        "\n",
        "\n",
        "I found that the results of this program are pretty much as expected, and not very interesting. The deck is shuffled accordingly, and all of the methods that I explained in the previous section worked to succesfully make the program more general. \n",
        "\n",
        "There are however, two interesting results that I would like to discuss.\n",
        "\n",
        "The first of which, is the fact that this shuffle is not *truly* random. This comes from the fact that everything the program was doing is dependant only on the deck itself. For example, a deck of 100 integers will always be shuffled in the same manner, and will also always be shuffled the same number of times. This result can obviously be picked out by running the program twice, picking the same deck size each time. As expected, I found that when shuffling decks of the same size, the result will always be the same.\n",
        "\n",
        "The second result that I didn't really consider while *creating* the program, but became quite obvious after testing it, is the fact that the longer the deck size, the more shuffled the result will be. Now, I use the term \"more shuffled\" instead of random because once again, this deck is not truly random. What I mean by more shuffled comes from the part of my code that I mentioned earlier, where the deck is shufflled according to iterations through one quarter and three quarters of the deck. Clearly, for a much longer deck, there are many more cards in this interval which leads to the shuffle being performed more. For this reason, using very large deck sizes will result in the program takinga much longer time to compile the shuffled list.\n"
      ],
      "metadata": {
        "id": "BoO654PQRxo2"
      }
    },
    {
      "cell_type": "markdown",
      "source": [
        "## **Problem 2.1**"
      ],
      "metadata": {
        "id": "FSeoYvuCWMX8"
      }
    },
    {
      "cell_type": "markdown",
      "source": [
        "\n",
        "\n",
        "### **Methodology**\n",
        "\n",
        "\n",
        "Similarly to the previous problem, a lot of the base work was already done, as we had two catmap functions to work with. \n",
        "\n",
        "Firstly, through testing, I found that the function that employed array indexing was faster, and for this reason, chose to use it in my code.\n",
        "\n",
        "Once again, I will not dive to deep into the methods of the cat map function, as it was essentially already built, although I do explain how it works in the comments of the code. The only thing I really had to update was the equations within the catmap algorithm, to account for the new variables $p$, $q$, $r$, and $s$. I did this quite easily by adding those factors in to the equations as specified, and then setting them to be extra arguements in the catmap function. That was I could call the function for all 16 different combinations, and the results would be given.\n",
        "\n",
        "To tackle the problem of determining the number of shuffle steps taken to restore the original image data, I defined another function called shuffle_count(p,q,r,s). Clearly, the only arguements it takes are the values for $p$, $q$, $r$, and $s$. When the function is called, it creates one variable to hold the original, unchanged data. It then applies the catmap function to this original data **once**, creates a variable newdat equal to this, and creates a counter that is set to 1. This is done in order to let the next part of the function work properly. \n",
        "\n",
        "The next line begins a while loop that iterates until the original data is the exact same as the current data. Since it already performed the catmap shuffle once, the data clearly is not the same, so the loop begins running. However, since it updated the data once before the loop I needed the counter to be set equal to 1 initally. Inside the while loop, newdat is repeadetly updated according to the algorithm, using the catmap function. Each time a shuffle step is performed, the count is updated by 1. This continues until either the condition of the while loop is met, which makes the program print the results of the current count (the number of steps taken to restore the data), or until the image data has had 360 shuffle steps applied, and the image has still not been resolved. In this case, a statement is printing to tell the user that the image is not resolved after 360 steps, and then the program breaks out of the while loop.\n",
        "\n",
        "All that was left to do, was use nested for loops to call the shuffle count function 16 times, varying the integers $p$, $q$, $r$, and $s$ each time. When all is said and done, the program will print out results for each set of $p$, $q$, $r$, and $s$, either giving the number of shuffle steps taken to restore the image or explaining that the image was not resolved after 360 steps.\n"
      ],
      "metadata": {
        "id": "DeqyRgj8T_Qb"
      }
    },
    {
      "cell_type": "markdown",
      "source": [
        "### **Code**"
      ],
      "metadata": {
        "id": "IV3ExikHXugl"
      }
    },
    {
      "cell_type": "code",
      "source": [
        "import matplotlib.pyplot as plt\n",
        "import numpy as np\n",
        "\n",
        "\n",
        "# defining catmap function modeled after catmap2 from the class material.\n",
        "# this function takes the same square arguement, but also args for p,q,r, and s\n",
        "def catmap(square,p,q,r,s):\n",
        "  \n",
        "  # creates two variables, nx and ny, that are set to the x and y sizes of the data we are looking at\n",
        "  nx, ny = square.shape[0:2]\n",
        "  # creates x and y using array indexing instead of loops, based on the previously set\n",
        "  # size of the data nx and ny\n",
        "  x, y = np.arange(nx), np.arange(ny)\n",
        "  x, y = np.meshgrid(x, y, sparse=False, indexing= 'ij')\n",
        "  # creates two more variables xx and yy. These are the two values returned by the equations of Arnold's cat map algorithm\n",
        "  # depending on which parameters for p q r and s are used, the values are updated differently \n",
        "  xx = p*x + q*y\n",
        "  yy = r*x + s*y\n",
        "\n",
        "  # creates a result that is equal to the new location in the data determined by xx mod nx and yy mod ny\n",
        "  result = square[xx % nx, yy % ny]\n",
        "\n",
        "  return result # returns this result so every time this function is called and set equal to something, the image is updated\n",
        "\n",
        "# defining function to check how many iterations it takes for one full cycle of pixel shuffling\n",
        "def shuffle_count(p,q,r,s):\n",
        "  # createing two variables, olddat and newdat. olddat will just contain the original image data\n",
        "  # newdat takes the the old data and performed one shuffle step\n",
        "  olddat = np.array(img)\n",
        "  newdat = catmap(olddat,p,q,r,s)\n",
        "\n",
        "  # setting count = 1 to account for the first shuffle above\n",
        "  count = 1\n",
        "\n",
        "  # while loop that runs until the old data and new data are the same\n",
        "  while np.array_equiv(newdat, olddat) == False:\n",
        "    # updates the new data according to the catmap function\n",
        "    newdat = catmap(newdat,p,q,r,s)\n",
        "    # updates the count by 1 to keep track of how many shuffle steps have occured\n",
        "    count += 1\n",
        "\n",
        "    # if the count reaches the max of 360 steps, the loop ends and prints a statement saying so,\n",
        "    # and the fucntion's action is complete\n",
        "    if count > 360:\n",
        "      print(\"When (p, q, r, s) =\",(p,q,r,s), \"the image is not restored after 360 shuffle steps.\")\n",
        "      print(\"\")\n",
        "      return\n",
        "\n",
        "  # if the while loop runs until the two sets of data are equivalent a statement is\n",
        "  # printed which reads the number of shuffle steps taken to restore the data to it's original form\n",
        "  # for the specific values of p q r s that were used.\n",
        "  print(\"When (p, q, r, s) =\",(p,q,r,s), \"the image is restored after\",count,\"shuffle steps.\")\n",
        "  print(\"\")\n",
        "\n",
        "\n",
        "\n",
        "\n",
        "\n",
        "\n",
        "# loading in cat image\n",
        "from PIL import Image\n",
        "import requests\n",
        "from io import BytesIO\n",
        "image_url = \"https://www.jasondavies.com/catmap/catmap.jpg\"\n",
        "response = requests.get(image_url)\n",
        "img = Image.open(BytesIO(response.content))\n",
        "\n",
        "\n",
        "\n",
        "\n",
        "# testing all possible variations of p q r s using for loops and printing results\n",
        "print(\"Results\")\n",
        "print(\"\")\n",
        "print(\"------------------------------------\")\n",
        "print(\"\")\n",
        "for one in range(1,3):\n",
        "  for two in range(1,3):\n",
        "    for three in range(1,3):\n",
        "      for four in range(1,3):\n",
        "        shuffle_count(one,two,three,four)"
      ],
      "metadata": {
        "id": "UpbTBUZnjxj-",
        "colab": {
          "base_uri": "https://localhost:8080/"
        },
        "outputId": "6435f32b-aafc-466e-8545-f54ed92b39d7"
      },
      "execution_count": null,
      "outputs": [
        {
          "output_type": "stream",
          "name": "stdout",
          "text": [
            "Results\n",
            "\n",
            "------------------------------------\n",
            "\n",
            "When (p, q, r, s) = (1, 1, 1, 1) the image is not restored after 360 shuffle steps.\n",
            "\n",
            "When (p, q, r, s) = (1, 1, 1, 2) the image is restored after 348 shuffle steps.\n",
            "\n",
            "When (p, q, r, s) = (1, 1, 2, 1) the image is restored after 40 shuffle steps.\n",
            "\n",
            "When (p, q, r, s) = (1, 1, 2, 2) the image is not restored after 360 shuffle steps.\n",
            "\n",
            "When (p, q, r, s) = (1, 2, 1, 1) the image is restored after 40 shuffle steps.\n",
            "\n",
            "When (p, q, r, s) = (1, 2, 1, 2) the image is not restored after 360 shuffle steps.\n",
            "\n",
            "When (p, q, r, s) = (1, 2, 2, 1) the image is not restored after 360 shuffle steps.\n",
            "\n",
            "When (p, q, r, s) = (1, 2, 2, 2) the image is not restored after 360 shuffle steps.\n",
            "\n",
            "When (p, q, r, s) = (2, 1, 1, 1) the image is restored after 348 shuffle steps.\n",
            "\n",
            "When (p, q, r, s) = (2, 1, 1, 2) the image is not restored after 360 shuffle steps.\n",
            "\n",
            "When (p, q, r, s) = (2, 1, 2, 1) the image is not restored after 360 shuffle steps.\n",
            "\n",
            "When (p, q, r, s) = (2, 1, 2, 2) the image is not restored after 360 shuffle steps.\n",
            "\n",
            "When (p, q, r, s) = (2, 2, 1, 1) the image is not restored after 360 shuffle steps.\n",
            "\n",
            "When (p, q, r, s) = (2, 2, 1, 2) the image is not restored after 360 shuffle steps.\n",
            "\n",
            "When (p, q, r, s) = (2, 2, 2, 1) the image is not restored after 360 shuffle steps.\n",
            "\n",
            "When (p, q, r, s) = (2, 2, 2, 2) the image is not restored after 360 shuffle steps.\n",
            "\n"
          ]
        }
      ]
    },
    {
      "cell_type": "markdown",
      "source": [
        "\n",
        "\n",
        "\n",
        "### **Results**\n",
        "\n",
        "Clearly, as can be seen in the printed results, only 4 of the 16 combinations of $p$, $q$, $r$, and $s$ resulted in the image data being resolved after 360 shuffle steps.\n",
        "\n",
        "I go deeper into discussion of the meaning behind this in the discussion for problem 2.2.\n",
        "\n",
        "\n",
        "\n",
        "\n",
        "\n",
        "\n"
      ],
      "metadata": {
        "id": "Hv8alPEYbSPh"
      }
    },
    {
      "cell_type": "markdown",
      "source": [
        "## **Problem 2.2**"
      ],
      "metadata": {
        "id": "ERkp0rz6WcdP"
      }
    },
    {
      "cell_type": "markdown",
      "source": [
        "\n",
        "\n",
        "\n",
        "### **Methodology**\n",
        "\n",
        "\n",
        "After completing the previous problem, I wrote a routine to carry out $n$ multiplications of a matrix with itself, to see if there was a value of $n$ for which the identity matrix was returned.\n",
        "\n",
        "First, note that the initial matrix used was the same of that in the previous question, defined by $p$, $q$, $r$, and $s$, so again, in the end there was 16 combinations and 16 results.\n",
        "\n",
        "Do do this problem, I first defined a function called identity_count which took arguements of $p$, $q$, $r$, and $s$, as well as a fifth arguement $N$. For the purpose of this problem $N$ was always 354, the x and y size of the image data from the previous problem, so that the results could be compared. I only added it as arguement to further generalize the problem; theoretically, this could be used to test images of other sizes.\n",
        "\n",
        "The function is actually quite simple, and similar in nature to the shuffle_count() function in the previous problem. First it creates two arrays I and M, which represent the identity matrix, and the matrix containing $p$, $q$, $r$, and $s$. It also creates a third matrix, new_M, that is identical to that of the $p$, $q$, $r$, $s$ matrix. A variable $n$ is also then created and set equal to 1 to represent the count. This is due to the fact that before the matrix is multiplied by itself, it is still technically a matrix to the power of 1.\n",
        "\n",
        "After everything is initialized, a while loop similar to the one used in the previous problem is started, which runs indefinitely under the condition that the matrix of interest is not equal to the identity matrix.\n",
        "\n",
        "For each loop, new_M is updated by taking the current new_M, multiplied by our original matrix of interest, mod N. The count is also updated after each step to reflect the number of steps taken. Similarly, the program breaks out of the while loop if the count reaches 360. If new_M eventually is equal to the identity matrix, the condition for the while loop to stop has been reached, and a message is printed stating the number of steps taken.\n"
      ],
      "metadata": {
        "id": "ZS5ZL8PLcHpI"
      }
    },
    {
      "cell_type": "markdown",
      "source": [
        "### **Code**"
      ],
      "metadata": {
        "id": "p_wzKDRwXAYy"
      }
    },
    {
      "cell_type": "code",
      "source": [
        "import numpy as np\n",
        "\n",
        "def identity_count(p,q,r,s,N):\n",
        "\n",
        "  global n\n",
        "  I = np.array( [[1,0] , [0,1]] )\n",
        "  M = np.array( [[p,q] , [r,s]] )\n",
        "\n",
        "  new_M = np.array( [[p,q] , [r,s]] )\n",
        "  n = 1\n",
        "\n",
        "  while np.array_equiv(new_M,I) == False:\n",
        "    new_M = (np.matmul(new_M,M)) % N\n",
        "\n",
        "    n += 1\n",
        "    if n >= 360:\n",
        "      break\n",
        "\n",
        "  if n >= 360:\n",
        "    print(\"When (p, q, r, s) =\",(p,q,r,s), \"the identity matrix has still not been reached when n = 360.\")\n",
        "    print(\"\")\n",
        "\n",
        "  else:\n",
        "    print(\"When (p, q, r, s) =\",(p,q,r,s), \"the identity matrix is returned when n =\", n)\n",
        "    print(\"\")\n",
        "\n",
        "print(\"Results\")\n",
        "print(\"\")\n",
        "print(\"------------------------------------\")\n",
        "print(\"\")\n",
        "for one in range(1,3):\n",
        "  for two in range(1,3):\n",
        "    for three in range(1,3):\n",
        "      for four in range(1,3):\n",
        "        identity_count(one,two,three,four,354)"
      ],
      "metadata": {
        "colab": {
          "base_uri": "https://localhost:8080/"
        },
        "id": "pD75VmlJMsGG",
        "outputId": "aab8c6b3-e175-45c5-8335-422195703533"
      },
      "execution_count": null,
      "outputs": [
        {
          "output_type": "stream",
          "name": "stdout",
          "text": [
            "Results\n",
            "\n",
            "------------------------------------\n",
            "\n",
            "When (p, q, r, s) = (1, 1, 1, 1) the identity matrix has still not been reached when n = 360.\n",
            "\n",
            "When (p, q, r, s) = (1, 1, 1, 2) the identity matrix is returned when n = 348\n",
            "\n",
            "When (p, q, r, s) = (1, 1, 2, 1) the identity matrix is returned when n = 40\n",
            "\n",
            "When (p, q, r, s) = (1, 1, 2, 2) the identity matrix has still not been reached when n = 360.\n",
            "\n",
            "When (p, q, r, s) = (1, 2, 1, 1) the identity matrix is returned when n = 40\n",
            "\n",
            "When (p, q, r, s) = (1, 2, 1, 2) the identity matrix has still not been reached when n = 360.\n",
            "\n",
            "When (p, q, r, s) = (1, 2, 2, 1) the identity matrix has still not been reached when n = 360.\n",
            "\n",
            "When (p, q, r, s) = (1, 2, 2, 2) the identity matrix has still not been reached when n = 360.\n",
            "\n",
            "When (p, q, r, s) = (2, 1, 1, 1) the identity matrix is returned when n = 348\n",
            "\n",
            "When (p, q, r, s) = (2, 1, 1, 2) the identity matrix has still not been reached when n = 360.\n",
            "\n",
            "When (p, q, r, s) = (2, 1, 2, 1) the identity matrix has still not been reached when n = 360.\n",
            "\n",
            "When (p, q, r, s) = (2, 1, 2, 2) the identity matrix has still not been reached when n = 360.\n",
            "\n",
            "When (p, q, r, s) = (2, 2, 1, 1) the identity matrix has still not been reached when n = 360.\n",
            "\n",
            "When (p, q, r, s) = (2, 2, 1, 2) the identity matrix has still not been reached when n = 360.\n",
            "\n",
            "When (p, q, r, s) = (2, 2, 2, 1) the identity matrix has still not been reached when n = 360.\n",
            "\n",
            "When (p, q, r, s) = (2, 2, 2, 2) the identity matrix has still not been reached when n = 360.\n",
            "\n"
          ]
        }
      ]
    },
    {
      "cell_type": "markdown",
      "source": [
        "To test whether or not the results differ when the count is allowed to go past 360 steps, used the following code.\n",
        "\n",
        "It is exactly the same as the previous program, the only difference is that the count is allowed to go all the way up to 100,000."
      ],
      "metadata": {
        "id": "j8LPCvcNe8hJ"
      }
    },
    {
      "cell_type": "code",
      "source": [
        "# Same exact code as above, but with n max changed to 100,000\n",
        "\n",
        "import numpy as np\n",
        "\n",
        "def identity_count(p,q,r,s,N):\n",
        "\n",
        "  global n\n",
        "  I = np.array( [[1,0] , [0,1]] )\n",
        "  M = np.array( [[p,q] , [r,s]] )\n",
        "\n",
        "  new_M = np.array( [[p,q] , [r,s]] )\n",
        "  n = 1\n",
        "\n",
        "  while np.array_equiv(new_M,I) == False:\n",
        "    new_M = (np.matmul(new_M,M)) % 354\n",
        "\n",
        "    n += 1\n",
        "    if n >= 100000:\n",
        "      break\n",
        "\n",
        "  if n >= 100000:\n",
        "    print(\"When (p, q, r, s) =\",(p,q,r,s), \"the identity matrix has still not been reached when n = 100,000.\")\n",
        "    print(\"\")\n",
        "\n",
        "  else:\n",
        "    print(\"When (p, q, r, s) =\",(p,q,r,s), \"the identity matrix is returned when n =\", n)\n",
        "    print(\"\")\n",
        "\n",
        "print(\"Results\")\n",
        "print(\"\")\n",
        "print(\"------------------------------------\")\n",
        "print(\"\")\n",
        "for one in range(1,3):\n",
        "  for two in range(1,3):\n",
        "    for three in range(1,3):\n",
        "      for four in range(1,3):\n",
        "        identity_count(one,two,three,four,354)"
      ],
      "metadata": {
        "colab": {
          "base_uri": "https://localhost:8080/"
        },
        "id": "0-2bXcP0Nf5A",
        "outputId": "42ce7ce5-197c-435f-a9ee-3fa9f6421283"
      },
      "execution_count": null,
      "outputs": [
        {
          "output_type": "stream",
          "name": "stdout",
          "text": [
            "Results\n",
            "\n",
            "------------------------------------\n",
            "\n",
            "When (p, q, r, s) = (1, 1, 1, 1) the identity matrix has still not been reached when n = 100,000.\n",
            "\n",
            "When (p, q, r, s) = (1, 1, 1, 2) the identity matrix is returned when n = 348\n",
            "\n",
            "When (p, q, r, s) = (1, 1, 2, 1) the identity matrix is returned when n = 40\n",
            "\n",
            "When (p, q, r, s) = (1, 1, 2, 2) the identity matrix has still not been reached when n = 100,000.\n",
            "\n",
            "When (p, q, r, s) = (1, 2, 1, 1) the identity matrix is returned when n = 40\n",
            "\n",
            "When (p, q, r, s) = (1, 2, 1, 2) the identity matrix has still not been reached when n = 100,000.\n",
            "\n",
            "When (p, q, r, s) = (1, 2, 2, 1) the identity matrix has still not been reached when n = 100,000.\n",
            "\n",
            "When (p, q, r, s) = (1, 2, 2, 2) the identity matrix has still not been reached when n = 100,000.\n",
            "\n",
            "When (p, q, r, s) = (2, 1, 1, 1) the identity matrix is returned when n = 348\n",
            "\n",
            "When (p, q, r, s) = (2, 1, 1, 2) the identity matrix has still not been reached when n = 100,000.\n",
            "\n",
            "When (p, q, r, s) = (2, 1, 2, 1) the identity matrix has still not been reached when n = 100,000.\n",
            "\n",
            "When (p, q, r, s) = (2, 1, 2, 2) the identity matrix has still not been reached when n = 100,000.\n",
            "\n",
            "When (p, q, r, s) = (2, 2, 1, 1) the identity matrix has still not been reached when n = 100,000.\n",
            "\n",
            "When (p, q, r, s) = (2, 2, 1, 2) the identity matrix has still not been reached when n = 100,000.\n",
            "\n",
            "When (p, q, r, s) = (2, 2, 2, 1) the identity matrix has still not been reached when n = 100,000.\n",
            "\n",
            "When (p, q, r, s) = (2, 2, 2, 2) the identity matrix has still not been reached when n = 100,000.\n",
            "\n"
          ]
        }
      ]
    },
    {
      "cell_type": "markdown",
      "source": [
        "\n",
        "\n",
        "\n",
        "\n",
        "### **Results & Discussion**\n",
        "\n",
        "\n",
        "\n",
        "It is clear to see from the printed results for this problem are identical to those of the catmap problem.\n",
        "\n",
        "From this, I infer that the catmap algorithm is in a sense doing the exact same thing. Obviously, the catmap version of this problem uses the image data, however the underlying math is the same. The equations for the catmap algorithm can be represented as the same matrices used in this problem, and when cycling through all the shuffle steps, eventually, the identity matrix is returned. When this occurs, it results in the state of the image data being completely returned to it's initial state, and therefore the image is resolved!\n",
        "\n",
        "Note that in testing this code for extremely large maxima for the number of shuffle steps allowed, I found the results to be identical. From this, I am under the assumption that the identity matrix will never be returned for those values of $p$, $q$, $r$, and $s$. Therefore I will also assume that for the values of $p$, $q$, $r$, and $s$ that did not return the identity matrix, the catmap algorithm using those same values is not actually a valid version of Arnold's catmap.\n"
      ],
      "metadata": {
        "id": "rH2QHLz2fcbI"
      }
    },
    {
      "cell_type": "markdown",
      "source": [
        "## **Problem 2.3**"
      ],
      "metadata": {
        "id": "_pSOFjPkWzU4"
      }
    },
    {
      "cell_type": "markdown",
      "source": [
        "\n",
        "\n",
        "\n",
        "### **Methodology**\n",
        "\n",
        "\n",
        "\n",
        "For this problem, I was tasked with creating a program that would find the order of $a$, for 9 different values of $a$, according to the equation stated in the introduction. I was also tasked with plotting these orders, $r$, versus $N$ for each integer $a$, which was done simply using lists and matplotlib.pyplot.subplots.\n",
        "\n",
        "This program is actually quite simple, and only really lengthened by the plotting instructions. I first used two for loops to cycle through all the necessary values of $a$ and $N$. Within each loop for $N$, a variable $r$ that will represent the order is set to 1. \n",
        "\n",
        "After this, I initalized a while loop to iterate indefinitely. Within the loop, I first update r by adding one (this is done first as $r$ must be positive). Then I create a variable called result that is equal to $(a^r)$ mod $N$. If this result is equal to 1, then the current $r$ is the order of the current $a$. Hence, if this condition is met, the program appends $r$ and $N$ to their respective lists, just for plotting purposes, and breaks out of the current while loop, moving on to the next value of $N$. If the result is not equal to 1 however, the loop continues, first checking if $r$ is greater than or equal to 1000. If not, the loop restarts, updating $r$ by adding 1, and continuing the process. I added the condition that $r$ not go past 1000, because in testing, I came to the conclusion that certain $a$ values do not have an order $r$ for certain $N$ values. If this was the case, I just appended None to the list for $r$ to represent this fact.\n",
        "\n",
        "Within the for loop that loops over $a$, I also included plotting instructions, such that we could see 9 different plots with the results, which are contained in the lists for r and N.\n"
      ],
      "metadata": {
        "id": "EVfDHy_zN2c3"
      }
    },
    {
      "cell_type": "markdown",
      "source": [
        "### **Code**"
      ],
      "metadata": {
        "id": "Sm49kCXhW52a"
      }
    },
    {
      "cell_type": "code",
      "source": [
        "# order finding\n",
        "\n",
        "import numpy as np\n",
        "import matplotlib.pyplot as plt\n",
        "\n",
        "r_list = []\n",
        "N_list = []\n",
        "\n",
        "fig, ax = plt.subplots(3,3,figsize=(15,15))\n",
        "[axi.set_axis_off() for axi in ax.ravel()]\n",
        "\n",
        "for a in range(2,11):\n",
        "  r_list = []\n",
        "  N_list = []\n",
        "\n",
        "  for N in range(1,1001):\n",
        "    r = 0\n",
        "\n",
        "    while True == True:\n",
        "      r += 1\n",
        "      result = (a**r) % N\n",
        "\n",
        "      if result == 1:\n",
        "        r_list += [r]\n",
        "        N_list += [N]\n",
        "        break\n",
        "      \n",
        "      elif r >=1000:\n",
        "        r_list += [None]\n",
        "        N_list += [N]\n",
        "        break\n",
        "  \n",
        "  \n",
        "  \n",
        "  ax = fig.add_subplot(3, 3, a-1)\n",
        "  ax.plot(N_list,r_list, 'go', markersize =1)\n",
        "  plt.xlabel(\"N\")\n",
        "  plt.ylabel(\"Order (r)\")\n",
        "  plt.title(\"Order of a = \"+str(a)+\" versus N\",fontsize=12,color='blue')\n",
        "  plt.xlim(0,1010)\n",
        "  plt.ylim(-10,1010)\n",
        "\n",
        "  "
      ],
      "metadata": {
        "id": "FGUKPyFQQOnw",
        "colab": {
          "base_uri": "https://localhost:8080/",
          "height": 893
        },
        "outputId": "236c2043-0456-447f-fa14-53a3bd90a13e"
      },
      "execution_count": null,
      "outputs": [
        {
          "output_type": "display_data",
          "data": {
            "text/plain": [
              "<Figure size 1080x1080 with 18 Axes>"
            ],
            "image/png": "[encoded data removed]"
          },
          "metadata": {
            "needs_background": "light"
          }
        }
      ]
    },
    {
      "cell_type": "markdown",
      "source": [
        "\n",
        "\n",
        "\n",
        "### **Results & Discussion**\n",
        "\n",
        "\n",
        "\n",
        "After running the code, we are left with 9 plots, one for each value of $a$. Each of these plots is of the order $r$ as a function of $N$ for the specified integer $a$. \n",
        "\n",
        "Since we are iterating through so many $N$ values, the graphs are a bit clustered, and it is hard to pick out any microscopic details.\n",
        "\n",
        "However, *macroscopically* we can clearly see that in each of the graphs, there is a positive linear trend of $r$ as $N$ increases. Not only does $r$ on average, appear to increase with $N$, but there are some very prominent linear relationships embedded within the data.\n",
        "\n",
        "Another thing to note is that there appears to be a common pattern for a number of $N$ values. Specifically, in all of the plots except for $a = 4, 9$ there is a linear relation for certain values of $N$, where $r$ = $N$. For $a = 4, 9$, there is a similar relation but this time relating to $r = N/2$.\n",
        "\n",
        "I suspect that this detail may be related to the fact that 4 and 9 are both perfect squares.\n"
      ],
      "metadata": {
        "id": "roD4DRKwjcHS"
      }
    },
    {
      "cell_type": "markdown",
      "source": [
        "## **Problem 2.4**"
      ],
      "metadata": {
        "id": "dv9jEz2CXOc2"
      }
    },
    {
      "cell_type": "markdown",
      "source": [
        "\n",
        "\n",
        "### **Methodology**\n",
        "\n",
        "\n",
        "\n",
        "The logic used for this problem was done by following the step by step guide in the assignment details, but I will stil explain a few of my generalizations.\n",
        "\n",
        "I first definied a function to check if the $N$ could be expressed as a power of integers. This was done just for ease, so I could call the function within my actual code, and was created using the properties of logs.\n",
        "\n",
        "I also defined a function to find the greatest common denominator between two integers, using Euclid's algorithm, which was quite simple after reading a bit on the algorithm itself.\n",
        "\n",
        "I also defined a function to be used to take a number to a high power and take the mod of it. This was really only used for testing purposes, but I have left it in my code for the sake of generalization.\n",
        "\n",
        "The main body of my code follows step by step the integer factorization method specified in the assignment.\n",
        "\n",
        "Essentially all the code is doing is initializing a for loop that runs through all odd numbers in the specified range. Within the for loop, there are several conditionals to check if one of the steps in the algorithm returns a valid factor. If one of the conditions is met, we have a factor, and we can simply print this factor for the current $N$. If none the conditions are met, we assume that the number is prime, and a message is printed to reflect this.\n"
      ],
      "metadata": {
        "id": "0KH-MKfxNuCb"
      }
    },
    {
      "cell_type": "markdown",
      "source": [
        "### **Code**"
      ],
      "metadata": {
        "id": "U0PGGApFXjkC"
      }
    },
    {
      "cell_type": "code",
      "source": [
        "from math import *\n",
        "\n",
        "def powerCheck(N):\n",
        "  if N == 1:\n",
        "    return True\n",
        "  for i in range(2, int(sqrt(N)) + 1) :\n",
        "    b = log(N) / log(i)\n",
        "    if (round((b - int(b)),8) < 0.00000000000001):\n",
        "      return i\n",
        "  return False\n",
        "\n",
        "def gcd(a, b):\n",
        "  if b == 0:\n",
        "    return a\n",
        "  else:\n",
        "    rem = a % b\n",
        "    return gcd(b, rem)\n",
        "\n",
        "def power_mod(a,x,m):\n",
        "  if x == 0:\n",
        "    return 1\n",
        "  elif x == 1:\n",
        "    return a % m\n",
        "  else:\n",
        "    root = power_mod(a, x // 2, m)\n",
        "    if x % 2 == 0:\n",
        "      return (root * root) % m\n",
        "    else:\n",
        "      return (root * root * a) % m\n",
        "\n",
        "\n",
        "\n",
        "for N in range(99901,100001,2):\n",
        "  factor = None\n",
        "  \n",
        "  #step 1\n",
        "  if N % 2 == 0:\n",
        "    factor = 2\n",
        "    print(\"A factor of\",N,\"is:\",factor)\n",
        "    continue\n",
        "\n",
        "  # step 2\n",
        "  if powerCheck(N) != False:\n",
        "    factor = powerCheck(N)\n",
        "    print(\"A factor of\",N,\"is:\",factor)\n",
        "    continue\n",
        "\n",
        "  # step 3\n",
        "  for a in range(3,N-2,1):\n",
        "    \n",
        "    if gcd(a,N) != 1:\n",
        "      factor = int(gcd(a,N))\n",
        "      print(\"A factor of\",N,\"is:\",factor)\n",
        "      break\n",
        "  \n",
        "    #step 4\n",
        "  if factor == None:\n",
        "    for a in range(3,N-2,1):\n",
        "      r = 1\n",
        "      while r <= 1000:\n",
        "        r += 1\n",
        "        result = (a**r) % N\n",
        "\n",
        "        if result == 1:\n",
        "          if r % 2 != 0:\n",
        "            break\n",
        "          \n",
        "          elif r % 2 == 0:\n",
        "        \n",
        "            \n",
        "            if power_mod(a, r/2, N) == -1 or power_mod(a, r/2, N) == (N-1) % N:\n",
        "              break\n",
        "            else:\n",
        "              plus = gcd( a**(r/2) + 1 , N )\n",
        "              minus = gcd( a**(r/2) - 1 , N )\n",
        "              if type(plus) == int:\n",
        "                factor = plus\n",
        "                print(\"A factor of\",N,\"is:\",factor)\n",
        "                break\n",
        "              elif type(minus) == int:\n",
        "                factor = minus\n",
        "                print(\"A factor of\",N,\"is:\",factor)\n",
        "                break\n",
        "              else:\n",
        "                break\n",
        "  \n",
        "  if factor == None:\n",
        "    print(\"No factors found, therefore\",N,\"is a prime number!\")\n",
        "\n",
        "# Realistically, r should be able to go beyond 100, \n",
        "# but it works for this example, I just did it to cut down on execution time\n",
        "\n",
        "# Notice that the GCD step seems to do most of the computing"
      ],
      "metadata": {
        "colab": {
          "base_uri": "https://localhost:8080/"
        },
        "id": "yZlnUMXXN0Ge",
        "outputId": "46c2958d-5fcb-4adb-ff1c-d23145d18c43"
      },
      "execution_count": null,
      "outputs": [
        {
          "output_type": "stream",
          "name": "stdout",
          "text": [
            "No factors found, therefore 99901 is a prime number!\n",
            "A factor of 99903 is: 3\n",
            "A factor of 99905 is: 5\n",
            "No factors found, therefore 99907 is a prime number!\n",
            "A factor of 99909 is: 3\n",
            "A factor of 99911 is: 7\n",
            "A factor of 99913 is: 11\n",
            "A factor of 99915 is: 3\n",
            "A factor of 99917 is: 41\n",
            "A factor of 99919 is: 163\n",
            "A factor of 99921 is: 3\n",
            "No factors found, therefore 99923 is a prime number!\n",
            "A factor of 99925 is: 5\n",
            "A factor of 99927 is: 3\n",
            "No factors found, therefore 99929 is a prime number!\n",
            "A factor of 99931 is: 13\n",
            "A factor of 99933 is: 3\n",
            "A factor of 99935 is: 5\n",
            "A factor of 99937 is: 37\n",
            "A factor of 99939 is: 3\n",
            "A factor of 99941 is: 139\n",
            "A factor of 99943 is: 17\n",
            "A factor of 99945 is: 3\n",
            "A factor of 99947 is: 89\n",
            "A factor of 99949 is: 127\n",
            "A factor of 99951 is: 3\n",
            "A factor of 99953 is: 7\n",
            "A factor of 99955 is: 5\n",
            "A factor of 99957 is: 3\n",
            "A factor of 99959 is: 19\n",
            "No factors found, therefore 99961 is a prime number!\n",
            "A factor of 99963 is: 3\n",
            "A factor of 99965 is: 5\n",
            "A factor of 99967 is: 7\n",
            "A factor of 99969 is: 3\n",
            "No factors found, therefore 99971 is a prime number!\n",
            "A factor of 99973 is: 257\n",
            "A factor of 99975 is: 3\n",
            "A factor of 99977 is: 17\n",
            "A factor of 99979 is: 11\n",
            "A factor of 99981 is: 3\n",
            "A factor of 99983 is: 13\n",
            "A factor of 99985 is: 5\n",
            "A factor of 99987 is: 3\n",
            "No factors found, therefore 99989 is a prime number!\n",
            "No factors found, therefore 99991 is a prime number!\n",
            "A factor of 99993 is: 3\n",
            "A factor of 99995 is: 5\n",
            "A factor of 99997 is: 19\n",
            "A factor of 99999 is: 3\n"
          ]
        }
      ]
    },
    {
      "cell_type": "markdown",
      "source": [
        "\n",
        "\n",
        "\n",
        "### **Results & Discussion**\n",
        "\n",
        "\n",
        "After checking all of these results, I found that all statements were true in regards to both the factors, and prime numbers.\n",
        "\n",
        "Therefore I deduced that everything is working properly.\n",
        "\n",
        "Realistically, the program should cycle through many more $r$ values to continue checking for factors, but this is where this algorithm gets extremely infeffiecient. Since it works for the specified interval, I have left it as is, but if a different interval was used, specifically one with higher integers, the code would need more generalization.\n"
      ],
      "metadata": {
        "id": "5tHoX4cwnlUB"
      }
    }
  ]
}